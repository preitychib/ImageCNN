{
 "cells": [
  {
   "cell_type": "code",
   "execution_count": 1,
   "metadata": {},
   "outputs": [],
   "source": [
    "import torch\n",
    "import torch.nn as nn\n",
    "import torch.optim as optim\n",
    "import torchvision.transforms as transforms\n",
    "from torchvision.datasets import ImageFolder\n",
    "from torch.utils.data import random_split\n",
    "from torch.utils.data.dataloader import DataLoader\n",
    "\n",
    "# from tqdm import tqdm\n",
    "import numpy as np\n",
    "import pandas as pd\n",
    "from sklearn.metrics import classification_report\n",
    "import matplotlib.pyplot as plt\n",
    "\n",
    "\n",
    "from Model import CNN\n",
    "\n",
    "import time\n",
    "from datetime import timedelta"
   ]
  },
  {
   "cell_type": "code",
   "execution_count": 19,
   "metadata": {},
   "outputs": [
    {
     "name": "stdout",
     "output_type": "stream",
     "text": [
      " Training on cuda\n"
     ]
    }
   ],
   "source": [
    "data_dir = './/Flowers'\n",
    "BATCH_SIZE = 16\n",
    "MAX_EPOCHS = 20\n",
    "\n",
    "H = {\n",
    "\t\"train_loss\": [],\n",
    "\t\"train_acc\": [],\n",
    "\t\"val_loss\": [],\n",
    "\t\"val_acc\": []\n",
    "}\n",
    "\n",
    "\n",
    "device = 'cpu'\n",
    "device = 'cuda' if torch.cuda.is_available() else 'cpu'\n",
    "print(f' Training on {device}')\n",
    "\n"
   ]
  },
  {
   "cell_type": "code",
   "execution_count": 20,
   "metadata": {},
   "outputs": [],
   "source": [
    "\n",
    "dataset = ImageFolder(data_dir,transform = transforms.Compose([\n",
    "    transforms.Resize((150,150)),transforms.ToTensor()\n",
    "]))\n"
   ]
  },
  {
   "cell_type": "code",
   "execution_count": 21,
   "metadata": {},
   "outputs": [],
   "source": [
    "\n",
    "num_channels = dataset[0][0].shape[0]\n",
    "num_classes = len(dataset.classes)"
   ]
  },
  {
   "cell_type": "code",
   "execution_count": 22,
   "metadata": {},
   "outputs": [
    {
     "data": {
      "text/plain": [
       "(768, 192)"
      ]
     },
     "execution_count": 22,
     "metadata": {},
     "output_type": "execute_result"
    }
   ],
   "source": [
    "temp_data, test_data = random_split(dataset, [int(len(dataset)*0.8), int(len(dataset)*0.2)])\n",
    "len(temp_data),len(test_data)"
   ]
  },
  {
   "cell_type": "code",
   "execution_count": 23,
   "metadata": {},
   "outputs": [
    {
     "data": {
      "text/plain": [
       "(576, 192)"
      ]
     },
     "execution_count": 23,
     "metadata": {},
     "output_type": "execute_result"
    }
   ],
   "source": [
    "\n",
    "train_data, val_data = random_split(temp_data, [int(len(temp_data)*0.75), int(len(temp_data)*0.25)])\n",
    "len(train_data),len(val_data)\n"
   ]
  },
  {
   "cell_type": "code",
   "execution_count": 24,
   "metadata": {},
   "outputs": [],
   "source": [
    "train_loader = DataLoader(train_data, batch_size=BATCH_SIZE, shuffle = True)\n",
    "val_loader = DataLoader(val_data, batch_size=BATCH_SIZE)\n",
    "test_loader = DataLoader(test_data, batch_size=BATCH_SIZE)\n"
   ]
  },
  {
   "cell_type": "code",
   "execution_count": 25,
   "metadata": {},
   "outputs": [
    {
     "data": {
      "text/plain": [
       "(36, 12)"
      ]
     },
     "execution_count": 25,
     "metadata": {},
     "output_type": "execute_result"
    }
   ],
   "source": [
    "\n",
    "trainSteps = len(train_loader)         #  len(train_loader.dataset) // BATCH_SIZE\n",
    "valSteps = len(val_loader)              #   len(val_loader.dataset) // BATCH_SIZE\n",
    "\n",
    "trainSteps, valSteps\n"
   ]
  },
  {
   "cell_type": "code",
   "execution_count": 26,
   "metadata": {},
   "outputs": [
    {
     "name": "stdout",
     "output_type": "stream",
     "text": [
      "conv1.weight : torch.Size([64, 3, 3, 3])\n",
      "conv1.bias : torch.Size([64])\n",
      "conv2.weight : torch.Size([32, 64, 5, 5])\n",
      "conv2.bias : torch.Size([32])\n",
      "fc1.weight : torch.Size([128, 39200])\n",
      "fc1.bias : torch.Size([128])\n",
      "fc2.weight : torch.Size([12, 128])\n",
      "fc2.bias : torch.Size([12])\n"
     ]
    }
   ],
   "source": [
    "\n",
    "model = CNN(num_channels,num_classes)\n",
    "for n,v in model.named_parameters():\n",
    "    print(f'{n} : {v.shape}')\n",
    "\n"
   ]
  },
  {
   "cell_type": "code",
   "execution_count": 27,
   "metadata": {},
   "outputs": [],
   "source": [
    "\n",
    "model.to(device)\n",
    "\n",
    "# criterion = nn.NLLLoss()\n",
    "criterion = nn.CrossEntropyLoss()\n",
    "optimizer = optim.SGD(model.parameters(), lr=0.001, momentum=0.9)\n",
    "\n"
   ]
  },
  {
   "cell_type": "code",
   "execution_count": 28,
   "metadata": {},
   "outputs": [
    {
     "name": "stdout",
     "output_type": "stream",
     "text": [
      "EPOCH: 1/20\n",
      "Train loss: 2.4844, Train accuracy: 0.1059\n",
      "Val loss: 2.4762, Val accuracy: 0.0990\n",
      "EPOCH: 2/20\n",
      "Train loss: 2.4502, Train accuracy: 0.1493\n",
      "Val loss: 2.4418, Val accuracy: 0.1875\n",
      "EPOCH: 3/20\n",
      "Train loss: 2.3608, Train accuracy: 0.2240\n",
      "Val loss: 2.3283, Val accuracy: 0.1927\n",
      "EPOCH: 4/20\n",
      "Train loss: 2.0640, Train accuracy: 0.3021\n",
      "Val loss: 1.9573, Val accuracy: 0.2604\n",
      "EPOCH: 5/20\n",
      "Train loss: 1.7061, Train accuracy: 0.3733\n",
      "Val loss: 1.7566, Val accuracy: 0.3490\n",
      "EPOCH: 6/20\n",
      "Train loss: 1.5679, Train accuracy: 0.4514\n",
      "Val loss: 1.6967, Val accuracy: 0.3646\n",
      "EPOCH: 7/20\n",
      "Train loss: 1.3562, Train accuracy: 0.4931\n",
      "Val loss: 1.5302, Val accuracy: 0.4115\n",
      "EPOCH: 8/20\n",
      "Train loss: 1.2113, Train accuracy: 0.5642\n",
      "Val loss: 1.5859, Val accuracy: 0.4479\n",
      "EPOCH: 9/20\n",
      "Train loss: 1.1120, Train accuracy: 0.6302\n",
      "Val loss: 1.4036, Val accuracy: 0.4948\n",
      "EPOCH: 10/20\n",
      "Train loss: 1.0374, Train accuracy: 0.6146\n",
      "Val loss: 1.4020, Val accuracy: 0.4271\n",
      "EPOCH: 11/20\n",
      "Train loss: 0.9080, Train accuracy: 0.6892\n",
      "Val loss: 1.6481, Val accuracy: 0.4375\n",
      "EPOCH: 12/20\n",
      "Train loss: 0.8664, Train accuracy: 0.7049\n",
      "Val loss: 1.4698, Val accuracy: 0.5000\n",
      "EPOCH: 13/20\n",
      "Train loss: 0.7819, Train accuracy: 0.7274\n",
      "Val loss: 1.5444, Val accuracy: 0.4844\n",
      "EPOCH: 14/20\n",
      "Train loss: 0.6792, Train accuracy: 0.7760\n",
      "Val loss: 1.5506, Val accuracy: 0.4896\n",
      "EPOCH: 15/20\n",
      "Train loss: 0.5973, Train accuracy: 0.7969\n",
      "Val loss: 1.6021, Val accuracy: 0.4948\n",
      "EPOCH: 16/20\n",
      "Train loss: 0.5115, Train accuracy: 0.8194\n",
      "Val loss: 1.5028, Val accuracy: 0.5156\n",
      "EPOCH: 17/20\n",
      "Train loss: 0.4841, Train accuracy: 0.8351\n",
      "Val loss: 1.7234, Val accuracy: 0.4896\n",
      "EPOCH: 18/20\n",
      "Train loss: 0.4265, Train accuracy: 0.8715\n",
      "Val loss: 1.7879, Val accuracy: 0.5000\n",
      "EPOCH: 19/20\n",
      "Train loss: 0.4312, Train accuracy: 0.8559\n",
      "Val loss: 1.8465, Val accuracy: 0.4792\n",
      "EPOCH: 20/20\n",
      "Train loss: 0.2584, Train accuracy: 0.9271\n",
      "Val loss: 1.9961, Val accuracy: 0.4479\n",
      "Finished training\n"
     ]
    }
   ],
   "source": [
    "strtm = time.time()\n",
    "# iterator = tqdm(range(1,MAX_EPOCHS+1), total=MAX_EPOCHS+1)\n",
    "# for epoch in iterator:\n",
    "for epoch in range(1, MAX_EPOCHS+1):    \n",
    "    model.train()\n",
    "    totalTrainLoss = 0\n",
    "    totalValLoss = 0\n",
    "    trainCorrect = 0\n",
    "    valCorrect = 0\n",
    "    \n",
    "    for (inputs,labels) in train_loader:\n",
    "        (inputs, labels) = (inputs.to(device),labels.to(device))\n",
    "        # labels = torch.tensor(labels)\n",
    "        preds = model(inputs)\n",
    "        loss = criterion(preds, labels)\n",
    "        \n",
    "        optimizer.zero_grad()\n",
    "        loss.backward()\n",
    "        optimizer.step()\n",
    "\n",
    "        totalTrainLoss += loss\n",
    "        trainCorrect += (preds.argmax(1) == labels).type(torch.float).sum().item()       \n",
    "    \n",
    "    with torch.no_grad():\n",
    "        model.eval()\n",
    "        for (inputs,labels) in val_loader:\n",
    "            (inputs, labels) = (inputs.to(device),labels.to(device))\n",
    "        \n",
    "            preds = model(inputs)\n",
    "            loss = criterion(preds, labels)\n",
    "            totalValLoss += loss\n",
    "            valCorrect += (preds.argmax(1) == labels).type(\n",
    "\t\t\t\ttorch.float).sum().item()\n",
    "    \n",
    "    avgTrainLoss = totalTrainLoss / trainSteps\n",
    "    avgValLoss = totalValLoss / valSteps\n",
    "    \n",
    "    trainCorrect = trainCorrect / len(train_loader.dataset)\n",
    "    valCorrect = valCorrect / len(val_loader.dataset)\n",
    "\t\n",
    "    H[\"train_loss\"].append(avgTrainLoss.cpu().detach().numpy())\n",
    "    H[\"train_acc\"].append(trainCorrect)\n",
    "    H[\"val_loss\"].append(avgValLoss.cpu().detach().numpy())\n",
    "    H[\"val_acc\"].append(valCorrect)\n",
    "    # iterator.write(f\"\"\"\n",
    "    # EPOCH: {epoch}/{MAX_EPOCHS}Train loss: {avgTrainLoss:.4f}, Train accuracy: {trainCorrect:.4f} Val loss: {avgValLoss:.4f}, Val accuracy: {valCorrect:.4f}\n",
    "    # \"\"\")\n",
    "\t \n",
    "    print(f\"EPOCH: {epoch}/{MAX_EPOCHS}\")\n",
    "    print(f\"Train loss: {avgTrainLoss:.4f}, Train accuracy: {trainCorrect:.4f}\")\n",
    "    print(f\"Val loss: {avgValLoss:.4f}, Val accuracy: {valCorrect:.4f}\")\n",
    "\n",
    "print('Finished training')\n",
    "\n",
    "entm = time.time()\n"
   ]
  },
  {
   "cell_type": "code",
   "execution_count": 37,
   "metadata": {},
   "outputs": [
    {
     "name": "stdout",
     "output_type": "stream",
     "text": [
      "Time_taken on cuda : 0:00:11.506343\n"
     ]
    }
   ],
   "source": [
    "\n",
    "print(f'Time_taken on {device} : {str(timedelta(seconds=entm-strtm))}')"
   ]
  },
  {
   "cell_type": "code",
   "execution_count": 30,
   "metadata": {},
   "outputs": [],
   "source": [
    "\n",
    "torch.save(model, 'CNN_flowers_model.pth')"
   ]
  },
  {
   "cell_type": "code",
   "execution_count": 31,
   "metadata": {},
   "outputs": [],
   "source": [
    "df = pd.DataFrame(H)\n",
    "df.to_csv('Training_Result.csv')\n"
   ]
  },
  {
   "cell_type": "code",
   "execution_count": 32,
   "metadata": {},
   "outputs": [
    {
     "data": {
      "image/png": "[encoded data removed]",
      "text/plain": [
       "<Figure size 640x480 with 1 Axes>"
      ]
     },
     "metadata": {},
     "output_type": "display_data"
    }
   ],
   "source": [
    "plt.style.use(\"ggplot\")\n",
    "plt.figure()\n",
    "plt.plot(H[\"train_loss\"], label=\"train_loss\")\n",
    "plt.plot(H[\"val_loss\"], label=\"val_loss\")\n",
    "plt.plot(H[\"train_acc\"], label=\"train_acc\")\n",
    "plt.plot(H[\"val_acc\"], label=\"val_acc\")\n",
    "plt.title(\"Training Loss and Accuracy on Dataset\")\n",
    "plt.xlabel(\"Epoch #\")\n",
    "plt.ylabel(\"Loss/Accuracy\")\n",
    "plt.legend(loc=\"lower left\")\n",
    "plt.savefig('plot.png')"
   ]
  },
  {
   "cell_type": "code",
   "execution_count": 33,
   "metadata": {},
   "outputs": [
    {
     "name": "stdout",
     "output_type": "stream",
     "text": [
      "[INFO] evaluating network...\n"
     ]
    }
   ],
   "source": [
    "\n",
    "print(\"[INFO] evaluating network...\")\n",
    "with torch.no_grad():\n",
    "    model.eval()\n",
    "    targets = []\n",
    "    predictions = []\n",
    "    for (inputs,labels) in test_loader:\n",
    "        inputs = inputs.to(device)        \n",
    "        preds = model(inputs)\n",
    "        \n",
    "        predictions.extend(preds.argmax(axis=1).cpu().numpy())\n",
    "        targets.extend(labels.cpu().numpy())\n"
   ]
  },
  {
   "cell_type": "code",
   "execution_count": 34,
   "metadata": {},
   "outputs": [],
   "source": [
    "assert len(predictions) == len(targets)\n"
   ]
  },
  {
   "cell_type": "code",
   "execution_count": 35,
   "metadata": {},
   "outputs": [
    {
     "name": "stdout",
     "output_type": "stream",
     "text": [
      "              precision    recall  f1-score   support\n",
      "\n",
      "    bluebell       0.52      0.58      0.55        19\n",
      "   buttercup       0.53      0.42      0.47        19\n",
      "      crocus       0.33      0.06      0.10        17\n",
      "    daffodil       0.29      0.64      0.40        14\n",
      "       daisy       0.63      0.75      0.69        16\n",
      "   dandelion       0.50      0.23      0.32        13\n",
      "        iris       0.92      0.55      0.69        22\n",
      "  lilyvalley       0.47      0.53      0.50        17\n",
      "       pansy       0.50      0.62      0.55        13\n",
      "    snowdrop       0.41      0.41      0.41        17\n",
      "   sunflower       1.00      0.90      0.95        10\n",
      "       tulip       0.22      0.33      0.26        15\n",
      "\n",
      "    accuracy                           0.49       192\n",
      "   macro avg       0.53      0.50      0.49       192\n",
      "weighted avg       0.53      0.49      0.48       192\n",
      "\n"
     ]
    }
   ],
   "source": [
    "\n",
    "print(classification_report(np.array(targets), np.array(predictions), target_names=test_data.dataset.classes))"
   ]
  },
  {
   "cell_type": "code",
   "execution_count": null,
   "metadata": {},
   "outputs": [],
   "source": []
  }
 ],
 "metadata": {
  "kernelspec": {
   "display_name": "Python 3",
   "language": "python",
   "name": "python3"
  },
  "language_info": {
   "codemirror_mode": {
    "name": "ipython",
    "version": 3
   },
   "file_extension": ".py",
   "mimetype": "text/x-python",
   "name": "python",
   "nbconvert_exporter": "python",
   "pygments_lexer": "ipython3",
   "version": "3.11.8"
  }
 },
 "nbformat": 4,
 "nbformat_minor": 2
}
